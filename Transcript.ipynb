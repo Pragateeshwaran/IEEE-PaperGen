{
 "cells": [
  {
   "cell_type": "code",
   "execution_count": 2,
   "metadata": {},
   "outputs": [
    {
     "name": "stderr",
     "output_type": "stream",
     "text": [
      "c:\\Users\\ADMIN\\AppData\\Local\\Programs\\Python\\Python311\\Lib\\site-packages\\tqdm\\auto.py:21: TqdmWarning: IProgress not found. Please update jupyter and ipywidgets. See https://ipywidgets.readthedocs.io/en/stable/user_install.html\n",
      "  from .autonotebook import tqdm as notebook_tqdm\n"
     ]
    }
   ],
   "source": [
    "\n",
    "import torch\n",
    "from transformers import AutoModelForSpeechSeq2Seq, AutoProcessor, pipeline\n",
    "from datasets import load_dataset\n",
    "import os\n",
    "def convert(path):\n",
    "    device = \"cuda:0\" if torch.cuda.is_available() else \"cpu\"\n",
    "    torch_dtype = torch.float16 if torch.cuda.is_available() else torch.float32\n",
    "\n",
    "    model_id = \"openai/whisper-large-v3\"\n",
    "\n",
    "    model = AutoModelForSpeechSeq2Seq.from_pretrained(\n",
    "        model_id, torch_dtype=torch_dtype, low_cpu_mem_usage=True, use_safetensors=True, cache_dir=\"D:\\hugging-models\"\n",
    "    )\n",
    "    model.to(device)\n",
    "\n",
    "    processor = AutoProcessor.from_pretrained(model_id)\n",
    "\n",
    "    pipe = pipeline(\n",
    "        \"automatic-speech-recognition\",\n",
    "        model=model,\n",
    "        tokenizer=processor.tokenizer,\n",
    "        feature_extractor=processor.feature_extractor,\n",
    "        max_new_tokens=128,\n",
    "        chunk_length_s=30,\n",
    "        batch_size=16,\n",
    "        return_timestamps=True,\n",
    "        torch_dtype=torch_dtype,\n",
    "        device=device,\n",
    "    )\n",
    "\n",
    "\n",
    "    result = pipe(path)\n",
    "    print(result)\n",
    "    # os.remove(path)\n",
    "    return result \n"
   ]
  },
  {
   "cell_type": "code",
   "execution_count": 3,
   "metadata": {},
   "outputs": [
    {
     "name": "stderr",
     "output_type": "stream",
     "text": [
      "Special tokens have been added in the vocabulary, make sure the associated word embeddings are fine-tuned or trained.\n",
      "Whisper did not predict an ending timestamp, which can happen if audio is cut off in the middle of a word. Also make sure WhisperTimeStampLogitsProcessor was used during generation.\n"
     ]
    },
    {
     "name": "stdout",
     "output_type": "stream",
     "text": [
      "{'text': ' என்னதான் விளவாசியில் ஏறியந்தாலும், இவர்கள் கொடுக்குக்கும் அஞ்சுரோ பொரட்டா மோசுதான். அது மட்டும் இல்லாமல், இந்த மாதிரி முட்டையை அப்படியே ஒரே வாயில்', 'chunks': [{'timestamp': (0.0, 2.12), 'text': ' என்னதான் விளவாசியில் ஏறியந்தாலும்,'}, {'timestamp': (2.12, 4.54), 'text': ' இவர்கள் கொடுக்குக்கும் அஞ்சுரோ பொரட்டா மோசுதான்.'}, {'timestamp': (4.54, None), 'text': ' அது மட்டும் இல்லாமல், இந்த மாதிரி முட்டையை அப்படியே ஒரே வாயில்'}]}\n"
     ]
    },
    {
     "data": {
      "text/plain": [
       "{'text': ' என்னதான் விளவாசியில் ஏறியந்தாலும், இவர்கள் கொடுக்குக்கும் அஞ்சுரோ பொரட்டா மோசுதான். அது மட்டும் இல்லாமல், இந்த மாதிரி முட்டையை அப்படியே ஒரே வாயில்',\n",
       " 'chunks': [{'timestamp': (0.0, 2.12),\n",
       "   'text': ' என்னதான் விளவாசியில் ஏறியந்தாலும்,'},\n",
       "  {'timestamp': (2.12, 4.54),\n",
       "   'text': ' இவர்கள் கொடுக்குக்கும் அஞ்சுரோ பொரட்டா மோசுதான்.'},\n",
       "  {'timestamp': (4.54, None),\n",
       "   'text': ' அது மட்டும் இல்லாமல், இந்த மாதிரி முட்டையை அப்படியே ஒரே வாயில்'}]}"
      ]
     },
     "execution_count": 3,
     "metadata": {},
     "output_type": "execute_result"
    }
   ],
   "source": [
    "convert(r\"F:\\works\\A important\\A neurals\\IEEE-PaperGen\\example_audio.mp3\")"
   ]
  },
  {
   "cell_type": "code",
   "execution_count": null,
   "metadata": {},
   "outputs": [],
   "source": []
  }
 ],
 "metadata": {
  "kernelspec": {
   "display_name": "Python 3",
   "language": "python",
   "name": "python3"
  },
  "language_info": {
   "codemirror_mode": {
    "name": "ipython",
    "version": 3
   },
   "file_extension": ".py",
   "mimetype": "text/x-python",
   "name": "python",
   "nbconvert_exporter": "python",
   "pygments_lexer": "ipython3",
   "version": "3.11.9"
  }
 },
 "nbformat": 4,
 "nbformat_minor": 2
}
