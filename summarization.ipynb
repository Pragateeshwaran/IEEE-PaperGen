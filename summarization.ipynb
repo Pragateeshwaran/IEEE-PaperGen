{
 "cells": [
  {
   "cell_type": "code",
   "execution_count": 10,
   "metadata": {},
   "outputs": [
    {
     "name": "stderr",
     "output_type": "stream",
     "text": [
      "c:\\Users\\ADMIN\\AppData\\Local\\Programs\\Python\\Python311\\Lib\\site-packages\\huggingface_hub\\file_download.py:148: UserWarning: `huggingface_hub` cache-system uses symlinks by default to efficiently store duplicated files but your machine does not support them in D:\\hugging-models\\models--bert-base-multilingual-cased. Caching files will still work but in a degraded version that might require more space on your disk. This warning can be disabled by setting the `HF_HUB_DISABLE_SYMLINKS_WARNING` environment variable. For more details, see https://huggingface.co/docs/huggingface_hub/how-to-cache#limitations.\n",
      "To support symlinks on Windows, you either need to activate Developer Mode or to run Python as an administrator. In order to see activate developer mode, see this article: https://docs.microsoft.com/en-us/windows/apps/get-started/enable-your-device-for-development\n",
      "  warnings.warn(message)\n"
     ]
    }
   ],
   "source": [
    "from transformers import BertTokenizer, BertModel\n",
    "tokenizer = BertTokenizer.from_pretrained('bert-base-multilingual-cased', cache_dir=\"D:\\hugging-models\")\n",
    "model = BertModel.from_pretrained(\"bert-base-multilingual-cased\", cache_dir=\"D:\\hugging-models\")\n",
    "text = \"Replace me by any text you'd like.\"\n",
    "encoded_input = tokenizer(text, return_tensors='pt')\n",
    "output = model(**encoded_input)\n"
   ]
  },
  {
   "cell_type": "code",
   "execution_count": 15,
   "metadata": {},
   "outputs": [
    {
     "ename": "IndexError",
     "evalue": "index 100 is out of bounds for dimension 1 with size 13",
     "output_type": "error",
     "traceback": [
      "\u001b[1;31m---------------------------------------------------------------------------\u001b[0m",
      "\u001b[1;31mIndexError\u001b[0m                                Traceback (most recent call last)",
      "Cell \u001b[1;32mIn[15], line 10\u001b[0m\n\u001b[0;32m      7\u001b[0m \u001b[38;5;66;03m# Loop through word indices and corresponding tokens from the model output\u001b[39;00m\n\u001b[0;32m      8\u001b[0m \u001b[38;5;28;01mfor\u001b[39;00m word_id, token \u001b[38;5;129;01min\u001b[39;00m \u001b[38;5;28mzip\u001b[39m(word_ids, tokens):\n\u001b[0;32m      9\u001b[0m   \u001b[38;5;66;03m# Access the hidden state for this word (assuming output.last_hidden_state exists)\u001b[39;00m\n\u001b[1;32m---> 10\u001b[0m   word_vector \u001b[38;5;241m=\u001b[39m \u001b[43moutput\u001b[49m\u001b[38;5;241;43m.\u001b[39;49m\u001b[43mlast_hidden_state\u001b[49m\u001b[43m[\u001b[49m\u001b[43m:\u001b[49m\u001b[43m,\u001b[49m\u001b[43m \u001b[49m\u001b[43mword_id\u001b[49m\u001b[43m,\u001b[49m\u001b[43m \u001b[49m\u001b[43m:\u001b[49m\u001b[43m]\u001b[49m  \u001b[38;5;66;03m# Hidden state for the word\u001b[39;00m\n\u001b[0;32m     11\u001b[0m   \u001b[38;5;28mprint\u001b[39m(\u001b[38;5;124mf\u001b[39m\u001b[38;5;124m\"\u001b[39m\u001b[38;5;124mOriginal Word: \u001b[39m\u001b[38;5;132;01m{\u001b[39;00mtext\u001b[38;5;241m.\u001b[39msplit()[word_id]\u001b[38;5;132;01m}\u001b[39;00m\u001b[38;5;124m (Token: \u001b[39m\u001b[38;5;132;01m{\u001b[39;00mtoken\u001b[38;5;132;01m}\u001b[39;00m\u001b[38;5;124m)\u001b[39m\u001b[38;5;124m\"\u001b[39m)\n\u001b[0;32m     12\u001b[0m   \u001b[38;5;28mprint\u001b[39m(\u001b[38;5;124mf\u001b[39m\u001b[38;5;124m\"\u001b[39m\u001b[38;5;124mWord Vector Shape: \u001b[39m\u001b[38;5;132;01m{\u001b[39;00mword_vector\u001b[38;5;241m.\u001b[39mshape\u001b[38;5;132;01m}\u001b[39;00m\u001b[38;5;124m\"\u001b[39m)  \u001b[38;5;66;03m# This shows the dimensionality of the embedding\u001b[39;00m\n",
      "\u001b[1;31mIndexError\u001b[0m: index 100 is out of bounds for dimension 1 with size 13"
     ]
    }
   ],
   "source": [
    "# Get back the original tokens from the tokenizer\n",
    "tokens = tokenizer.convert_ids_to_tokens(encoded_input[\"input_ids\"].squeeze().tolist())\n",
    "\n",
    "# Get the indices of the original words in the text\n",
    "word_ids = tokenizer.convert_tokens_to_ids(text.split())\n",
    "\n",
    "# Loop through word indices and corresponding tokens from the model output\n",
    "for word_id, token in zip(word_ids, tokens):\n",
    "  # Access the hidden state for this word (assuming output.last_hidden_state exists)\n",
    "  word_vector = output.last_hidden_state[:, word_id, :]  # Hidden state for the word\n",
    "  print(f\"Original Word: {text.split()[word_id]} (Token: {token})\")\n",
    "  print(f\"Word Vector Shape: {word_vector.shape}\")  # This shows the dimensionality of the embedding\n",
    "  # You can't directly interpret the word vector values, but use them for further analysis\n"
   ]
  },
  {
   "cell_type": "code",
   "execution_count": 17,
   "metadata": {},
   "outputs": [
    {
     "data": {
      "text/plain": [
       "['[CLS]',\n",
       " 'Rep',\n",
       " '##lace',\n",
       " 'me',\n",
       " 'by',\n",
       " 'any',\n",
       " 'text',\n",
       " 'you',\n",
       " \"'\",\n",
       " 'd',\n",
       " 'like',\n",
       " '.',\n",
       " '[SEP]']"
      ]
     },
     "execution_count": 17,
     "metadata": {},
     "output_type": "execute_result"
    }
   ],
   "source": [
    "tokens"
   ]
  },
  {
   "cell_type": "code",
   "execution_count": 22,
   "metadata": {},
   "outputs": [
    {
     "data": {
      "text/plain": [
       "['<s> i love her.</s>']"
      ]
     },
     "execution_count": 22,
     "metadata": {},
     "output_type": "execute_result"
    }
   ],
   "source": [
    "prediction"
   ]
  },
  {
   "cell_type": "code",
   "execution_count": null,
   "metadata": {},
   "outputs": [],
   "source": []
  }
 ],
 "metadata": {
  "kernelspec": {
   "display_name": "Python 3",
   "language": "python",
   "name": "python3"
  },
  "language_info": {
   "codemirror_mode": {
    "name": "ipython",
    "version": 3
   },
   "file_extension": ".py",
   "mimetype": "text/x-python",
   "name": "python",
   "nbconvert_exporter": "python",
   "pygments_lexer": "ipython3",
   "version": "3.11.9"
  }
 },
 "nbformat": 4,
 "nbformat_minor": 2
}
